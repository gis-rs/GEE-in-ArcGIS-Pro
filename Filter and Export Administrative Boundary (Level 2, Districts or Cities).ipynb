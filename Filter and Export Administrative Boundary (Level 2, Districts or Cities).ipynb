{
 "cells": [
  {
   "cell_type": "code",
   "execution_count": 48,
   "metadata": {},
   "outputs": [
    {
     "data": {
      "text/html": [
       "\n",
       "            <style>\n",
       "                .geemap-dark {\n",
       "                    --jp-widgets-color: white;\n",
       "                    --jp-widgets-label-color: white;\n",
       "                    --jp-ui-font-color1: white;\n",
       "                    --jp-layout-color2: #454545;\n",
       "                    background-color: #383838;\n",
       "                }\n",
       "\n",
       "                .geemap-dark .jupyter-button {\n",
       "                    --jp-layout-color3: #383838;\n",
       "                }\n",
       "\n",
       "                .geemap-colab {\n",
       "                    background-color: var(--colab-primary-surface-color, white);\n",
       "                }\n",
       "\n",
       "                .geemap-colab .jupyter-button {\n",
       "                    --jp-layout-color3: var(--colab-primary-surface-color, white);\n",
       "                }\n",
       "            </style>\n",
       "            "
      ],
      "text/plain": [
       "<IPython.core.display.HTML object>"
      ]
     },
     "metadata": {},
     "output_type": "display_data"
    }
   ],
   "source": [
    "# import libraries\n",
    "import ee\n",
    "import geemap\n",
    "\n",
    "# Initialize the Earth Engine API\n",
    "ee.Initialize()"
   ]
  },
  {
   "cell_type": "code",
   "execution_count": 49,
   "metadata": {},
   "outputs": [
    {
     "data": {
      "text/html": [
       "\n",
       "            <style>\n",
       "                .geemap-dark {\n",
       "                    --jp-widgets-color: white;\n",
       "                    --jp-widgets-label-color: white;\n",
       "                    --jp-ui-font-color1: white;\n",
       "                    --jp-layout-color2: #454545;\n",
       "                    background-color: #383838;\n",
       "                }\n",
       "\n",
       "                .geemap-dark .jupyter-button {\n",
       "                    --jp-layout-color3: #383838;\n",
       "                }\n",
       "\n",
       "                .geemap-colab {\n",
       "                    background-color: var(--colab-primary-surface-color, white);\n",
       "                }\n",
       "\n",
       "                .geemap-colab .jupyter-button {\n",
       "                    --jp-layout-color3: var(--colab-primary-surface-color, white);\n",
       "                }\n",
       "            </style>\n",
       "            "
      ],
      "text/plain": [
       "<IPython.core.display.HTML object>"
      ]
     },
     "metadata": {},
     "output_type": "display_data"
    }
   ],
   "source": [
    "#create map\n",
    "Map = geemap.Map()"
   ]
  },
  {
   "cell_type": "code",
   "execution_count": 50,
   "metadata": {},
   "outputs": [
    {
     "data": {
      "text/html": [
       "\n",
       "            <style>\n",
       "                .geemap-dark {\n",
       "                    --jp-widgets-color: white;\n",
       "                    --jp-widgets-label-color: white;\n",
       "                    --jp-ui-font-color1: white;\n",
       "                    --jp-layout-color2: #454545;\n",
       "                    background-color: #383838;\n",
       "                }\n",
       "\n",
       "                .geemap-dark .jupyter-button {\n",
       "                    --jp-layout-color3: #383838;\n",
       "                }\n",
       "\n",
       "                .geemap-colab {\n",
       "                    background-color: var(--colab-primary-surface-color, white);\n",
       "                }\n",
       "\n",
       "                .geemap-colab .jupyter-button {\n",
       "                    --jp-layout-color3: var(--colab-primary-surface-color, white);\n",
       "                }\n",
       "            </style>\n",
       "            "
      ],
      "text/plain": [
       "<IPython.core.display.HTML object>"
      ]
     },
     "metadata": {},
     "output_type": "display_data"
    },
    {
     "name": "stdout",
     "output_type": "stream",
     "text": [
      "['Amstetten', 'Bad Radkersburg', 'Baden', 'Bludenz', 'Braunau am Inn', 'Bregenz', 'Bruck an der Leitha', 'Bruck an der Mur', 'Deutschlandsberg', 'Dornbirn', 'Eferding', 'Eisenstadt', 'Eisenstadt Umgebung', 'Feldbach', 'Feldkirch', 'Feldkirchen in Karnten', 'Freistadt', 'Furstenfeld', 'Ganserndorf', 'Gmund', 'Gmunden', 'Graz', 'Graz Umgebung', 'Grieskirchen', 'Gussing', 'Hallein', 'Hartberg', 'Hermagor', 'Hollabrunn', 'Horn', 'Imst', 'Innsbruck', 'Innsbruck-Land', 'Jennersdorf', 'Judenburg', 'Kirchdorf an der Krems', 'Kitzbuhel', 'Klagenfurt', 'Klagenfurt-Land', 'Knittelfeld', 'Korneuburg', 'Krems', 'Krems an der Donau', 'Kufstein', 'Landeck', 'Leibnitz', 'Leoben', 'Lienz', 'Liezen', 'Lilienfeld', 'Linz', 'Linz-Land', 'Mattersburg', 'Melk', 'Mistelbach', 'Modling', 'Murau', 'Murzzuschlag', 'Neunkirchen', 'Neusiedl am See', 'Oberpullendorf', 'Oberwart', 'Perg', 'Reutte', 'Ried im Innkreis', 'Rohrbach in Oberosterreich', 'Rust', 'Salzburg', 'Salzburg-Umgebung', 'Sankt Johann im Pongau', 'Sankt Polten', 'Sankt Polten-Land', 'Sankt Veit an der Glan', 'Scharding', 'Scheibbs', 'Schwaz', 'Spittal an der Drau', 'Steyr', 'Steyr-Land', 'Tamsweg', 'Tulln', 'Urfahr-Umgebung', 'Villach', 'Villach-Land', 'Vocklabruck', 'Voitsberg', 'Volkermarkt', 'Waidhofen an der Thaya', 'Waidhofen an der Ybbs', 'Waidhofen an der Ybbs-Land', 'Wels', 'Wels-Land', 'Wien', 'Wien Umgebung', 'Wiener Neustadt', 'Wiener Neustadt-Land', 'Wiez', 'Wolfsberg', 'Zell am See', 'Zwettl']\n"
     ]
    }
   ],
   "source": [
    "# Load the GAUL dataset (level2 for administrative boundaries)\n",
    "gaul = ee.FeatureCollection(\"FAO/GAUL/2015/level2\")\n",
    "\n",
    "# Filter and Print city names of Austria\n",
    "austria = gaul.filter(ee.Filter.eq('ADM0_NAME', 'Austria'))\n",
    "names = austria.aggregate_array('ADM2_NAME').getInfo()\n",
    "print(sorted(set(names)))"
   ]
  },
  {
   "cell_type": "code",
   "execution_count": 52,
   "metadata": {},
   "outputs": [
    {
     "data": {
      "text/html": [
       "\n",
       "            <style>\n",
       "                .geemap-dark {\n",
       "                    --jp-widgets-color: white;\n",
       "                    --jp-widgets-label-color: white;\n",
       "                    --jp-ui-font-color1: white;\n",
       "                    --jp-layout-color2: #454545;\n",
       "                    background-color: #383838;\n",
       "                }\n",
       "\n",
       "                .geemap-dark .jupyter-button {\n",
       "                    --jp-layout-color3: #383838;\n",
       "                }\n",
       "\n",
       "                .geemap-colab {\n",
       "                    background-color: var(--colab-primary-surface-color, white);\n",
       "                }\n",
       "\n",
       "                .geemap-colab .jupyter-button {\n",
       "                    --jp-layout-color3: var(--colab-primary-surface-color, white);\n",
       "                }\n",
       "            </style>\n",
       "            "
      ],
      "text/plain": [
       "<IPython.core.display.HTML object>"
      ]
     },
     "metadata": {},
     "output_type": "display_data"
    },
    {
     "data": {
      "application/vnd.jupyter.widget-view+json": {
       "model_id": "49668a0fc83f470691b3b21d37828829",
       "version_major": 2,
       "version_minor": 0
      },
      "text/plain": [
       "Map(bottom=91198.0, center=[48.20774659652765, 16.37744606341925], controls=(WidgetControl(options=['position'…"
      ]
     },
     "execution_count": 52,
     "metadata": {},
     "output_type": "execute_result"
    }
   ],
   "source": [
    "# Filter for Vienna\n",
    "vienna = gaul.filter(ee.Filter.eq('ADM2_NAME', 'Wien'))\n",
    "\n",
    "# Add Vienna boundary to the map\n",
    "Map.addLayer(vienna, {'color': 'red'}, 'Vienna Boundary')\n",
    "\n",
    "# Get centroid coordinates\n",
    "centroid = vienna.geometry().centroid(maxError=1000).coordinates().getInfo()\n",
    "lon, lat = centroid\n",
    "Map.setCenter(lon, lat, 10)  \n",
    "\n",
    "# Display the map\n",
    "Map\n"
   ]
  },
  {
   "cell_type": "code",
   "execution_count": 53,
   "metadata": {},
   "outputs": [
    {
     "data": {
      "text/html": [
       "\n",
       "            <style>\n",
       "                .geemap-dark {\n",
       "                    --jp-widgets-color: white;\n",
       "                    --jp-widgets-label-color: white;\n",
       "                    --jp-ui-font-color1: white;\n",
       "                    --jp-layout-color2: #454545;\n",
       "                    background-color: #383838;\n",
       "                }\n",
       "\n",
       "                .geemap-dark .jupyter-button {\n",
       "                    --jp-layout-color3: #383838;\n",
       "                }\n",
       "\n",
       "                .geemap-colab {\n",
       "                    background-color: var(--colab-primary-surface-color, white);\n",
       "                }\n",
       "\n",
       "                .geemap-colab .jupyter-button {\n",
       "                    --jp-layout-color3: var(--colab-primary-surface-color, white);\n",
       "                }\n",
       "            </style>\n",
       "            "
      ],
      "text/plain": [
       "<IPython.core.display.HTML object>"
      ]
     },
     "metadata": {},
     "output_type": "display_data"
    },
    {
     "name": "stdout",
     "output_type": "stream",
     "text": [
      "Generating URL ...\n",
      "Downloading data from https://earthengine.googleapis.com/v1/projects/ee-gisandrsmadeeasy/tables/20fde4f23bde56719e3ba79d37ab5698-e85f7c8aac340a867e554bb03b19a617:getFeatures\n",
      "Please wait ...\n",
      "Data downloaded to C:\\Users\\user\\Downloads\\Vienna.shp\n"
     ]
    }
   ],
   "source": [
    "# Export to Downloads folder\n",
    "import os\n",
    "out_dir = os.path.join(os.path.expanduser(\"~\"), \"Downloads\")\n",
    "filename = os.path.join(out_dir, \"Vienna.shp\")\n",
    "\n",
    "geemap.ee_export_vector(\n",
    "    vienna, filename=filename\n",
    ")"
   ]
  },
  {
   "cell_type": "code",
   "execution_count": null,
   "metadata": {},
   "outputs": [],
   "source": []
  },
  {
   "cell_type": "code",
   "execution_count": null,
   "metadata": {},
   "outputs": [],
   "source": []
  }
 ],
 "metadata": {
  "kernelspec": {
   "display_name": "ArcGISPro",
   "language": "python",
   "name": "python3"
  },
  "language_info": {
   "file_extension": ".py",
   "mimetype": "text/x-python",
   "name": "python",
   "version": "3.11.10"
  }
 },
 "nbformat": 4,
 "nbformat_minor": 4
}
