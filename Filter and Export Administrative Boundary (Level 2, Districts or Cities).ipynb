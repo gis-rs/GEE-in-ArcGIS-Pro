{
 "cells": [
  {
   "cell_type": "code",
   "execution_count": null,
   "metadata": {},
   "outputs": [],
   "source": [
    "# import libraries\n",
    "import ee\n",
    "import geemap\n",
    "\n",
    "# Initialize the Earth Engine API\n",
    "ee.Initialize()"
   ]
  },
  {
   "cell_type": "code",
   "execution_count": null,
   "metadata": {},
   "outputs": [],
   "source": [
    "#create map\n",
    "Map = geemap.Map()"
   ]
  },
  {
   "cell_type": "code",
   "execution_count": null,
   "metadata": {},
   "outputs": [],
   "source": [
    "# Load the GAUL dataset (level2 for administrative boundaries)\n",
    "gaul = ee.FeatureCollection(\"FAO/GAUL/2015/level2\")\n",
    "\n",
    "# Filter and Print city names of Austria\n",
    "austria = gaul.filter(ee.Filter.eq('ADM0_NAME', 'Austria'))\n",
    "names = austria.aggregate_array('ADM2_NAME').getInfo()\n",
    "print(sorted(set(names)))"
   ]
  },
  {
   "cell_type": "code",
   "execution_count": null,
   "metadata": {},
   "outputs": [],
   "source": [
    "# Filter for Vienna\n",
    "vienna = gaul.filter(ee.Filter.eq('ADM2_NAME', 'Wien'))\n",
    "\n",
    "# Add Vienna boundary to the map\n",
    "Map.addLayer(vienna, {'color': 'red'}, 'Vienna Boundary')\n",
    "\n",
    "# Get centroid coordinates\n",
    "centroid = vienna.geometry().centroid(maxError=1000).coordinates().getInfo()\n",
    "lon, lat = centroid\n",
    "Map.setCenter(lon, lat, 10)  \n",
    "\n",
    "# Display the map\n",
    "Map\n"
   ]
  },
  {
   "cell_type": "code",
   "execution_count": null,
   "metadata": {},
   "outputs": [],
   "source": [
    "# Export to Downloads folder\n",
    "import os\n",
    "out_dir = os.path.join(os.path.expanduser(\"~\"), \"Downloads\")\n",
    "filename = os.path.join(out_dir, \"Vienna.shp\")\n",
    "\n",
    "geemap.ee_export_vector(\n",
    "    vienna, filename=filename\n",
    ")"
   ]
  },
  {
   "cell_type": "code",
   "execution_count": null,
   "metadata": {},
   "outputs": [],
   "source": []
  },
  {
   "cell_type": "code",
   "execution_count": null,
   "metadata": {},
   "outputs": [],
   "source": []
  }
 ],
 "metadata": {
  "kernelspec": {
   "display_name": "ArcGISPro",
   "language": "python",
   "name": "python3"
  },
  "language_info": {
   "file_extension": ".py",
   "mimetype": "text/x-python",
   "name": "python",
   "version": "3.11.10"
  }
 },
 "nbformat": 4,
 "nbformat_minor": 4
}
