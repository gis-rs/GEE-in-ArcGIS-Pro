{
 "cells": [
  {
   "cell_type": "code",
   "execution_count": null,
   "metadata": {},
   "outputs": [],
   "source": [
    "import ee\n",
    "import geemap\n",
    "\n",
    "# Initialize GEE\n",
    "ee.Initialize()"
   ]
  },
  {
   "cell_type": "code",
   "execution_count": null,
   "metadata": {},
   "outputs": [],
   "source": [
    "# Load global country boundaries\n",
    "countries = ee.FeatureCollection(\"USDOS/LSIB_SIMPLE/2017\")\n",
    "\n",
    "# List of countries you want\n",
    "country_list = [\"Germany\", \"France\", \"Italy\"]\n",
    "\n",
    "# Filter countries\n",
    "selected = countries.filter(ee.Filter.inList(\"country_na\", country_list))\n",
    "\n",
    "# Get centroid of all selected (merged geometry)\n",
    "centroid = selected.geometry().centroid().coordinates().getInfo()\n",
    "lon, lat = centroid\n",
    "\n",
    "# Create Map\n",
    "Map = geemap.Map()\n",
    "\n",
    "Map.addLayer(countries, {}, \"World Countries\")\n",
    "Map.addLayer(selected, {\"color\": \"red\"}, \"Selected Countries\")\n",
    "\n",
    "# Center map around the centroid of all selected\n",
    "Map.setCenter(lon, lat, 4)  # adjust zoom depending on spread\n",
    "Map\n"
   ]
  },
  {
   "cell_type": "code",
   "execution_count": 13,
   "metadata": {},
   "outputs": [
    {
     "data": {
      "text/html": [
       "\n",
       "            <style>\n",
       "                .geemap-dark {\n",
       "                    --jp-widgets-color: white;\n",
       "                    --jp-widgets-label-color: white;\n",
       "                    --jp-ui-font-color1: white;\n",
       "                    --jp-layout-color2: #454545;\n",
       "                    background-color: #383838;\n",
       "                }\n",
       "\n",
       "                .geemap-dark .jupyter-button {\n",
       "                    --jp-layout-color3: #383838;\n",
       "                }\n",
       "\n",
       "                .geemap-colab {\n",
       "                    background-color: var(--colab-primary-surface-color, white);\n",
       "                }\n",
       "\n",
       "                .geemap-colab .jupyter-button {\n",
       "                    --jp-layout-color3: var(--colab-primary-surface-color, white);\n",
       "                }\n",
       "            </style>\n",
       "            "
      ],
      "text/plain": [
       "<IPython.core.display.HTML object>"
      ]
     },
     "metadata": {},
     "output_type": "display_data"
    }
   ],
   "source": [
    "#export selected countries\n",
    "geemap.ee_export_vector(selected, filename=\"selected_countries.shp\")"
   ]
  }
 ],
 "metadata": {
  "kernelspec": {
   "display_name": "ArcGISPro",
   "language": "python",
   "name": "python3"
  },
  "language_info": {
   "file_extension": ".py",
   "mimetype": "text/x-python",
   "name": "python",
   "version": "3.11.10"
  }
 },
 "nbformat": 4,
 "nbformat_minor": 4
}
