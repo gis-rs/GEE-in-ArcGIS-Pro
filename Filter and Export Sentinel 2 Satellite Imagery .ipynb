{
 "cells": [
  {
   "cell_type": "code",
   "execution_count": null,
   "metadata": {},
   "outputs": [],
   "source": [
    "# import libraries\n",
    "import arcpy\n",
    "import os\n",
    "import ee\n",
    "import geemap"
   ]
  },
  {
   "cell_type": "code",
   "execution_count": null,
   "metadata": {},
   "outputs": [],
   "source": [
    "# Create Map\n",
    "Map = geemap.Map()\n",
    "Map"
   ]
  },
  {
   "cell_type": "code",
   "execution_count": null,
   "metadata": {},
   "outputs": [],
   "source": [
    "# create roi\n",
    "roi = ee.FeatureCollection(Map.draw_last_feature)"
   ]
  },
  {
   "cell_type": "code",
   "execution_count": null,
   "metadata": {},
   "outputs": [],
   "source": [
    "# Create median composite\n",
    "s2_collection = (ee.ImageCollection('COPERNICUS/S2_SR_HARMONIZED')\n",
    "    .filterBounds(roi)\n",
    "    .filterDate('2024-01-01', '2024-07-31')\n",
    "    .filter(ee.Filter.lt('CLOUDY_PIXEL_PERCENTAGE', 10))\n",
    ")\n",
    "\n",
    "image = s2_collection.median().clip(roi)"
   ]
  },
  {
   "cell_type": "code",
   "execution_count": null,
   "metadata": {},
   "outputs": [],
   "source": [
    "# True Color (Natural Color)\n",
    "vis_params_truecolor = {\n",
    "    'bands': ['B4', 'B3', 'B2'],\n",
    "    'min': 0,\n",
    "    'max': 3000,\n",
    "    'gamma': 1.2\n",
    "}\n",
    "\n",
    "# Add layers to map\n",
    "Map.addLayer(image, vis_params_truecolor, 'True Color')\n",
    "Map.centerObject(image)\n",
    "Map"
   ]
  },
  {
   "cell_type": "code",
   "execution_count": null,
   "metadata": {},
   "outputs": [],
   "source": [
    "# Export Image\n",
    "out_dir = os.path.join(os.path.expanduser(\"~\"), \"Downloads\")\n",
    "filename = os.path.join(out_dir, \"sentinel2_image.tif\")\n",
    "geemap.ee_export_image(\n",
    "    image.select(['B1', 'B2', 'B3', 'B4', 'B6', 'B7','B8',]), \n",
    "    filename=filename, \n",
    "    scale=10, \n",
    "    region=roi.geometry(), \n",
    "    file_per_band=False\n",
    ")"
   ]
  },
  {
   "cell_type": "code",
   "execution_count": null,
   "metadata": {},
   "outputs": [],
   "source": [
    "# Add exported image to map\n",
    "aprx = arcpy.mp.ArcGISProject(\"CURRENT\")\n",
    "aprx.activeMap.addDataFromPath(filename)"
   ]
  }
 ],
 "metadata": {
  "kernelspec": {
   "display_name": "ArcGISPro",
   "language": "python",
   "name": "python3"
  },
  "language_info": {
   "file_extension": ".py",
   "mimetype": "text/x-python",
   "name": "python",
   "version": "3.11.10"
  }
 },
 "nbformat": 4,
 "nbformat_minor": 4
}
